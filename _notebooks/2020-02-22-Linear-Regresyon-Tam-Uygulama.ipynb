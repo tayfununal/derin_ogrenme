{
  "nbformat": 4,
  "nbformat_minor": 0,
  "metadata": {
    "kernelspec": {
      "display_name": "Python 3",
      "name": "python3"
    },
    "language_info": {
      "name": "python"
    },
    "colab": {
      "name": "2020-02-24-Linear-Regresyon-Tam-Uygulama.ipynb",
      "provenance": []
    }
  },
  "cells": [
    {
      "cell_type": "markdown",
      "metadata": {
        "id": "wQN2ydYLP4h6",
        "colab_type": "text"
      },
      "source": [
        "# İleri Lineer Regresyon Uygulaması (✗)\n",
        "> Lineer regresyonun örneğe uygulanması.\n",
        "\n",
        "- toc: true \n",
        "- badges: true\n",
        "- comments: true\n",
        "- categories: [jupyter]\n",
        "- image: images/chart-preview.png"
      ]
    },
    {
      "cell_type": "markdown",
      "metadata": {
        "id": "CJ9skXwGPlW4",
        "colab_type": "text"
      },
      "source": [
        "The following additional libraries are needed to run this\n",
        "notebook. Note that running on Colab is experimental, please report a Github\n",
        "issue if you have any problem."
      ]
    },
    {
      "cell_type": "code",
      "metadata": {
        "id": "A9xeCwKFPlW-",
        "colab_type": "code",
        "colab": {}
      },
      "source": [
        "!pip install -U mxnet-cu101mkl==1.6.0  # updating mxnet to at least v1.6\n",
        "!pip install d2l==0.13.2 -f https://d2l.ai/whl.html # installing d2l\n"
      ],
      "execution_count": 0,
      "outputs": []
    },
    {
      "cell_type": "markdown",
      "metadata": {
        "origin_pos": 0,
        "id": "psp_gzhwPlXO",
        "colab_type": "text"
      },
      "source": [
        "# Concise Implementation of Linear Regression\n",
        ":label:`sec_linear_gluon`\n",
        "\n",
        "Broad and intense interest in deep learning for the past several years\n",
        "has inspired both companies, academics, and hobbyists\n",
        "to develop a variety of mature open source frameworks\n",
        "for automating the repetitive work of implementing\n",
        "gradient-based learning algorithms.\n",
        "In the previous section, we relied only on\n",
        "(i) tensors for data storage and linear algebra;\n",
        "and (ii) auto differentiation for calculating derivatives.\n",
        "In practice, because data iterators, loss functions, optimizers,\n",
        "and neural network layers (and some whole architectures)\n",
        "are so common, modern libraries implement these components for us as well.\n",
        "\n",
        "In this section, we will show you how to implement\n",
        "the linear regression model from :numref:`sec_linear_scratch`\n",
        "concisely by using framework's high-level APIs.\n",
        "\n",
        "## Generating the Dataset\n",
        "\n",
        "To start, we will generate the same dataset as in the previous section."
      ]
    },
    {
      "cell_type": "code",
      "metadata": {
        "origin_pos": 1,
        "tab": "mxnet",
        "id": "NB5YsR5wPlXU",
        "colab_type": "code",
        "colab": {}
      },
      "source": [
        "from d2l import mxnet as d2l\n",
        "from mxnet import autograd, gluon, np, npx\n",
        "npx.set_np()\n",
        "\n",
        "true_w = np.array([2, -3.4])\n",
        "true_b = 4.2\n",
        "features, labels = d2l.synthetic_data(true_w, true_b, 1000)"
      ],
      "execution_count": 0,
      "outputs": []
    },
    {
      "cell_type": "markdown",
      "metadata": {
        "origin_pos": 3,
        "id": "LlguM-MIPlXk",
        "colab_type": "text"
      },
      "source": [
        "## Reading the Dataset\n",
        "\n",
        "Rather than rolling our own iterator,\n",
        "we can call upon the `data` module to read data.\n",
        "The first step will be to instantiate an `ArrayDataset`.\n",
        "This object's constructor takes one or more tensors as arguments.\n",
        "Here, we pass in `features` and `labels` as arguments.\n",
        "Next, we will use the `ArrayDataset` to instantiate a `DataLoader`,\n",
        "which also requires that we specify a `batch_size`\n",
        "and specify a Boolean value `shuffle` indicating whether or not\n",
        "we want the `DataLoader` to shuffle the data\n",
        "on each epoch (pass through the dataset)."
      ]
    },
    {
      "cell_type": "code",
      "metadata": {
        "origin_pos": 4,
        "tab": "mxnet",
        "id": "eaVm-vv4PlXn",
        "colab_type": "code",
        "colab": {}
      },
      "source": [
        "def load_array(data_arrays, batch_size, is_train=True):  #@save\n",
        "    \"\"\"Construct a Gluon data loader.\"\"\"\n",
        "    dataset = gluon.data.ArrayDataset(*data_arrays)\n",
        "    return gluon.data.DataLoader(dataset, batch_size, shuffle=is_train)\n",
        "\n",
        "batch_size = 10\n",
        "data_iter = load_array((features, labels), batch_size)"
      ],
      "execution_count": 0,
      "outputs": []
    },
    {
      "cell_type": "markdown",
      "metadata": {
        "origin_pos": 6,
        "id": "z1tVGf03PlXv",
        "colab_type": "text"
      },
      "source": [
        "Now we can use `data_iter` in much the same way as we called\n",
        "the `data_iter` function in the previous section.\n",
        "To verify that it is working, we can read and print\n",
        "the first minibatch of instances. Comparing to :numref:`sec_linear_scratch`, here we use `iter` to construct an Python iterator and then use `next` to obtain the first item from the iterator."
      ]
    },
    {
      "cell_type": "code",
      "metadata": {
        "origin_pos": 7,
        "tab": "mxnet",
        "id": "o7h9ZEiWPlXx",
        "colab_type": "code",
        "outputId": "d5ea9507-5fae-4494-c985-fb6c82056f85",
        "colab": {}
      },
      "source": [
        "next(iter(data_iter))"
      ],
      "execution_count": 0,
      "outputs": [
        {
          "output_type": "execute_result",
          "data": {
            "text/plain": [
              "[array([[ 0.33342266, -0.23580593],\n",
              "        [ 2.3943908 , -0.04466231],\n",
              "        [ 0.6816457 ,  0.27752855],\n",
              "        [-1.7383806 , -0.6379685 ],\n",
              "        [-0.9778045 ,  0.5815632 ],\n",
              "        [-0.9712193 ,  0.5035904 ],\n",
              "        [-0.23578128, -0.4984049 ],\n",
              "        [-0.01892485, -1.5284138 ],\n",
              "        [-1.5667844 , -1.8091347 ],\n",
              "        [-0.01124159,  0.6532863 ]]),\n",
              " array([5.6608744 , 9.127469  , 4.633699  , 2.8726306 , 0.26861465,\n",
              "        0.53360987, 5.4180074 , 9.356497  , 7.2266026 , 1.9496151 ])]"
            ]
          },
          "metadata": {
            "tags": []
          },
          "execution_count": 3
        }
      ]
    },
    {
      "cell_type": "markdown",
      "metadata": {
        "origin_pos": 9,
        "id": "o11JB31JPlX7",
        "colab_type": "text"
      },
      "source": [
        "## Defining the Model\n",
        "\n",
        "When we implemented linear regression from scratch\n",
        "(in :numref:`sec_linear_scratch`),\n",
        "we defined our model parameters explicitly\n",
        "and coded up the calculations to produce output\n",
        "using basic linear algebra operations.\n",
        "You *should* know how to do this.\n",
        "But once your models get more complex,\n",
        "and once you have to do this nearly every day,\n",
        "you will be glad for the assistance.\n",
        "The situation is similar to coding up your own blog from scratch.\n",
        "Doing it once or twice is rewarding and instructive,\n",
        "but you would be a lousy web developer\n",
        "if every time you needed a blog you spent a month\n",
        "reinventing the wheel.\n",
        "\n",
        "For standard operations, we can use the framework's predefined layers,\n",
        "which allow us to focus especially\n",
        "on the layers used to construct the model\n",
        "rather than having to focus on the implementation.\n",
        "To define a linear model, we first import the `nn` module,\n",
        "which defines a large number of neural network layers\n",
        "(note that \"nn\" is an abbreviation for neural networks).\n",
        "We will first define a model variable `net`,\n",
        "which will refer to an instance of the `Sequential` class.\n",
        "The `Sequential` class defines a container\n",
        "for several layers that will be chained together.\n",
        "Given input data, a `Sequential` passes it through\n",
        "the first layer, in turn passing the output\n",
        "as the second layer's input and so forth.\n",
        "In the following example, our model consists of only one layer,\n",
        "so we do not really need `Sequential`.\n",
        "But since nearly all of our future models\n",
        "will involve multiple layers,\n",
        "we will use it anyway just to familiarize you\n",
        "with the most standard workflow.\n",
        "\n",
        "Recall the architecture of a single-layer network as shown in :numref:`fig_singleneuron`.\n",
        "The layer is said to be *fully-connected*\n",
        "because each of its inputs are connected to each of its outputs\n",
        "by means of a matrix-vector multiplication.\n",
        "\n",
        "![Linear regression is a single-layer neural network. ](http://d2l.ai/_images/singleneuron.svg)\n",
        ":label:`fig_singleneuron`"
      ]
    },
    {
      "cell_type": "code",
      "metadata": {
        "origin_pos": 10,
        "tab": "mxnet",
        "id": "CI5Wm0bkPlX8",
        "colab_type": "code",
        "colab": {}
      },
      "source": [
        "from mxnet.gluon import nn\n",
        "net = nn.Sequential()\n",
        "net.add(nn.Dense(1))"
      ],
      "execution_count": 0,
      "outputs": []
    },
    {
      "cell_type": "markdown",
      "metadata": {
        "origin_pos": 12,
        "tab": "mxnet",
        "id": "EnWAm83mPlYI",
        "colab_type": "text"
      },
      "source": [
        "In Gluon, the fully-connected layer is defined in the `Dense` class.\n",
        "Since we only want to generate a single scalar output,\n",
        "we set that number to $1$.\n",
        "\n",
        "It is worth noting that, for convenience,\n",
        "Gluon does not require us to specify\n",
        "the input shape for each layer.\n",
        "So here, we do not need to tell Gluon\n",
        "how many inputs go into this linear layer.\n",
        "When we first try to pass data through our model,\n",
        "e.g., when we execute `net(X)` later,\n",
        "Gluon will automatically infer the number of inputs to each layer.\n",
        "We will describe how this works in more detail\n",
        "in the chapter \"Deep Learning Computation\"."
      ]
    },
    {
      "cell_type": "markdown",
      "metadata": {
        "origin_pos": 14,
        "id": "GgDgzSqePlYK",
        "colab_type": "text"
      },
      "source": [
        "\n",
        "## Initializing Model Parameters\n",
        "\n",
        "Before using `net`, we need to initialize the model parameters,\n",
        "such as the weights and biases in the linear regression model.\n"
      ]
    },
    {
      "cell_type": "markdown",
      "metadata": {
        "origin_pos": 15,
        "tab": "mxnet",
        "id": "6H7Tm93APlYN",
        "colab_type": "text"
      },
      "source": [
        "We will import the `initializer` module from MXNet.\n",
        "This module provides various methods for model parameter initialization.\n",
        "Gluon makes `init` available as a shortcut (abbreviation)\n",
        "to access the `initializer` package.\n",
        "By calling `init.Normal(sigma=0.01)`,\n",
        "we specify that each *weight* parameter\n",
        "should be randomly sampled from a normal distribution\n",
        "with mean $0$ and standard deviation $0.01$.\n",
        "The *bias* parameter will be initialized to zero by default.\n",
        "Both the weight vector and bias will have attached gradients."
      ]
    },
    {
      "cell_type": "code",
      "metadata": {
        "origin_pos": 17,
        "tab": "mxnet",
        "id": "fg7QX535PlYP",
        "colab_type": "code",
        "colab": {}
      },
      "source": [
        "from mxnet import init\n",
        "net.initialize(init.Normal(sigma=0.01))"
      ],
      "execution_count": 0,
      "outputs": []
    },
    {
      "cell_type": "markdown",
      "metadata": {
        "origin_pos": 19,
        "tab": "mxnet",
        "id": "p9jX6kJMPlYY",
        "colab_type": "text"
      },
      "source": [
        "The code above may look straightforward but you should note\n",
        "that something strange is happening here.\n",
        "We are initializing parameters for a network\n",
        "even though Gluon does not yet know\n",
        "how many dimensions the input will have!\n",
        "It might be $2$ as in our example or it might be $2000$.\n",
        "Gluon lets us get away with this because behind the scenes,\n",
        "the initialization is actually *deferred*.\n",
        "The real initialization will take place only\n",
        "when we for the first time attempt to pass data through the network.\n",
        "Just be careful to remember that since the parameters\n",
        "have not been initialized yet,\n",
        "we cannot access or manipulate them."
      ]
    },
    {
      "cell_type": "markdown",
      "metadata": {
        "origin_pos": 21,
        "id": "c5MIwBc8PlYZ",
        "colab_type": "text"
      },
      "source": [
        "\n",
        "## Defining the Loss Function\n"
      ]
    },
    {
      "cell_type": "markdown",
      "metadata": {
        "origin_pos": 22,
        "tab": "mxnet",
        "id": "qdSHQTjoPlYa",
        "colab_type": "text"
      },
      "source": [
        "In Gluon, the `loss` module defines various loss functions.\n",
        "We will use the imported module `loss` with the pseudonym `gloss`\n",
        "to avoid confusing it for the variable\n",
        "holding our chosen loss function.\n",
        "In this example, we will use the Gluon\n",
        "implementation of squared loss (`L2Loss`)."
      ]
    },
    {
      "cell_type": "code",
      "metadata": {
        "origin_pos": 24,
        "tab": "mxnet",
        "id": "R7La-RD5PlYc",
        "colab_type": "code",
        "colab": {}
      },
      "source": [
        "from mxnet.gluon import loss as gloss\n",
        "loss = gloss.L2Loss()"
      ],
      "execution_count": 0,
      "outputs": []
    },
    {
      "cell_type": "markdown",
      "metadata": {
        "origin_pos": 26,
        "id": "C8ZTO1NOPlYn",
        "colab_type": "text"
      },
      "source": [
        "## Defining the Optimization Algorithm\n"
      ]
    },
    {
      "cell_type": "markdown",
      "metadata": {
        "origin_pos": 27,
        "tab": "mxnet",
        "id": "YulV9VVSPlYo",
        "colab_type": "text"
      },
      "source": [
        "Minibatch SGD and related variants\n",
        "are standard tools for optimizing neural networks\n",
        "and thus Gluon supports SGD alongside a number of\n",
        "variations on this algorithm through its `Trainer` class.\n",
        "When we instantiate the `Trainer`,\n",
        "we will specify the parameters to optimize over\n",
        "(obtainable from our net via `net.collect_params()`),\n",
        "the optimization algorithm we wish to use (`sgd`),\n",
        "and a dictionary of hyper-parameters\n",
        "required by our optimization algorithm.\n",
        "SGD just requires that we set the value `learning_rate`,\n",
        "(here we set it to 0.03)."
      ]
    },
    {
      "cell_type": "code",
      "metadata": {
        "origin_pos": 29,
        "tab": "mxnet",
        "id": "DxWag4BHPlYq",
        "colab_type": "code",
        "colab": {}
      },
      "source": [
        "from mxnet import gluon\n",
        "trainer = gluon.Trainer(net.collect_params(), 'sgd', {'learning_rate': 0.03})"
      ],
      "execution_count": 0,
      "outputs": []
    },
    {
      "cell_type": "markdown",
      "metadata": {
        "origin_pos": 31,
        "id": "mh0vrYtcPlY0",
        "colab_type": "text"
      },
      "source": [
        "## Training\n",
        "\n",
        "You might have noticed that expressing our model through Gluon\n",
        "requires comparatively few lines of code.\n",
        "We did not have to individually allocate parameters,\n",
        "define our loss function, or implement stochastic gradient descent.\n",
        "Once we start working with much more complex models,\n",
        "Gluon's advantages will grow considerably.\n",
        "However, once we have all the basic pieces in place,\n",
        "the training loop itself is strikingly similar\n",
        "to what we did when implementing everything from scratch.\n",
        "\n",
        "To refresh your memory: for some number of epochs,\n",
        "we will make a complete pass over the dataset (train_data),\n",
        "iteratively grabbing one minibatch of inputs\n",
        "and the corresponding ground-truth labels.\n",
        "For each minibatch, we go through the following ritual:\n",
        "\n",
        "* Generate predictions by calling `net(X)` and calculate the loss `l` (the forward pass).\n",
        "* Calculate gradients by calling `l.backward()` (the backward pass).\n",
        "* Update the model parameters by invoking our SGD optimizer (note that `trainer` already knows which parameters to optimize over, so we just need to pass in the minibatch size.\n",
        "\n",
        "For good measure, we compute the loss after each epoch and print it to monitor progress."
      ]
    },
    {
      "cell_type": "code",
      "metadata": {
        "origin_pos": 32,
        "tab": "mxnet",
        "id": "cZ465NsYPlY1",
        "colab_type": "code",
        "outputId": "f57faf35-098c-478c-e359-ece4714dc75b",
        "colab": {}
      },
      "source": [
        "num_epochs = 3\n",
        "for epoch in range(1, num_epochs + 1):\n",
        "    for X, y in data_iter:\n",
        "        with autograd.record():\n",
        "            l = loss(net(X), y)\n",
        "        l.backward()\n",
        "        trainer.step(batch_size)\n",
        "    l = loss(net(features), labels)\n",
        "    print('epoch %d, loss: %f' % (epoch, l.mean().asnumpy()))"
      ],
      "execution_count": 0,
      "outputs": [
        {
          "output_type": "stream",
          "text": [
            "epoch 1, loss: 0.025046\n"
          ],
          "name": "stdout"
        },
        {
          "output_type": "stream",
          "text": [
            "epoch 2, loss: 0.000089\n"
          ],
          "name": "stdout"
        },
        {
          "output_type": "stream",
          "text": [
            "epoch 3, loss: 0.000051\n"
          ],
          "name": "stdout"
        }
      ]
    },
    {
      "cell_type": "markdown",
      "metadata": {
        "origin_pos": 34,
        "id": "rztNu_T3PlY8",
        "colab_type": "text"
      },
      "source": [
        "Below, we compare the model parameters learned by training on finite data\n",
        "and the actual parameters that generated our dataset.\n",
        "To access parameters with Gluon,\n",
        "we first access the layer that we need from `net`\n",
        "and then access that layer's weight (`weight`) and bias (`bias`).\n",
        "To access each parameter's values as a tensor,\n",
        "we invoke its `data` method.\n",
        "As in our from-scratch implementation,\n",
        "note that our estimated parameters are\n",
        "close to their ground truth counterparts."
      ]
    },
    {
      "cell_type": "code",
      "metadata": {
        "origin_pos": 35,
        "tab": "mxnet",
        "id": "jECAQOQOPlY9",
        "colab_type": "code",
        "outputId": "4471083a-ab4f-4e88-b4b7-7550d7a9d50f",
        "colab": {}
      },
      "source": [
        "w = net[0].weight.data()\n",
        "print('Error in estimating w', true_w.reshape(w.shape) - w)\n",
        "b = net[0].bias.data()\n",
        "print('Error in estimating b', true_b - b)"
      ],
      "execution_count": 0,
      "outputs": [
        {
          "output_type": "stream",
          "text": [
            "Error in estimating w [[ 0.00041139 -0.00037718]]\n",
            "Error in estimating b [0.00084257]\n"
          ],
          "name": "stdout"
        }
      ]
    },
    {
      "cell_type": "markdown",
      "metadata": {
        "origin_pos": 37,
        "id": "mR8Zx48cPlZG",
        "colab_type": "text"
      },
      "source": [
        "## Summary\n"
      ]
    },
    {
      "cell_type": "markdown",
      "metadata": {
        "origin_pos": 38,
        "tab": "mxnet",
        "id": "es9JXMLDPlZH",
        "colab_type": "text"
      },
      "source": [
        "* Using Gluon, we can implement models much more succinctly.\n",
        "* In Gluon, the `data` module provides tools for data processing, the `nn` module defines a large number of neural network layers, and the `loss` module defines many common loss functions.\n",
        "* MXNet's module `initializer` provides various methods for model parameter initialization.\n",
        "* Dimensionality and storage are automatically inferred (but be careful not to attempt to access parameters before they have been initialized)."
      ]
    },
    {
      "cell_type": "markdown",
      "metadata": {
        "origin_pos": 40,
        "id": "-v-T55vYPlZI",
        "colab_type": "text"
      },
      "source": [
        "\n",
        "## Exercises\n"
      ]
    },
    {
      "cell_type": "markdown",
      "metadata": {
        "origin_pos": 41,
        "tab": "mxnet",
        "id": "ir81xicTPlZJ",
        "colab_type": "text"
      },
      "source": [
        "1. If we replace `l = loss(output, y)` with `l = loss(output, y).mean()`, we need to change `trainer.step(batch_size)` to `trainer.step(1)` for the code to behave identically. Why?\n",
        "1. Review the MXNet documentation to see what loss functions and initialization methods are provided in the modules `gluon.loss` and `init`. Replace the loss by Huber's loss.\n",
        "1. How do you access the gradient of `dense.weight`?\n",
        "\n",
        "[Discussions](https://discuss.d2l.ai/t/44)"
      ]
    }
  ]
}