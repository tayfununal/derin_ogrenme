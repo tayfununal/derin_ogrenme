{
  "nbformat": 4,
  "nbformat_minor": 0,
  "metadata": {
    "colab": {
      "name": "2020-06-13-On-Hazirliklar.ipynb",
      "provenance": [],
      "private_outputs": true,
      "authorship_tag": "ABX9TyM21H3tbtMRvB0bEu5cTMy0"
    },
    "kernelspec": {
      "name": "python3",
      "display_name": "Python 3"
    }
  },
  "cells": [
    {
      "cell_type": "markdown",
      "metadata": {
        "id": "03ZSh0XOyzLE",
        "colab_type": "text"
      },
      "source": [
        "# Ön Hazırlıklar (✗)\n",
        "\n",
        "- toc: true \n",
        "- badges: true\n",
        "- comments: true\n",
        "- categories: [jupyter]\n",
        "- image: images/chart-preview.png"
      ]
    },
    {
      "cell_type": "markdown",
      "metadata": {
        "id": "zUHO5hhkc2W3",
        "colab_type": "text"
      },
      "source": [
        "# **Ön Hazırlıklar**"
      ]
    },
    {
      "cell_type": "markdown",
      "metadata": {
        "id": "0uQjT_isdRiE",
        "colab_type": "text"
      },
      "source": [
        "  Derin öğrenmeye başlamak için birkaç tane temel beceriyi geliştireceğiz. Tüm\n",
        "makine öğrenmesi veriden bilgi cekmek ile ilgilidir. Bu yüzden veri depolama, işleme ve veri ön işleme gibi pratik becerileri öğrenerek başlayacağız.\n",
        "\n",
        "  Üstelik, makine öğrenmesi tipik olarak satırların örneklere ve sütunların \n",
        "niteliklere karşılık geldiği tablolar olarak düşünebildiğimiz geniş veri kümeleriyle çalışmayı gerektirir. Lineer cebir, tablo halindeki veri ile çalışmak için bize güçlü bir dizi teknikler verir. Çok ayrıntıya girmeyeceğiz ve daha ziyade matris işlemleri ve onların uygulamalarının temeline odaklanacağız.\n",
        "\n",
        "  Ek olarak, derin öğrenme optimizasyon ile ilgilidir. Bazı parametreler ile bir modele sahibiz ve verimize en iyi uyan parametreleri ve modeli bulmak istiyoruz. Bir algoritmanın her adımında her parametrenin hangi yöne gideceğini belirlemek biraz analiz(calculus) gerektirir. İleride bu konuya özetle değineceğiz. Neyse ki autograd paketi otomatik olarak bizim için türev hesaplar ve bunu da daha sonra ele alacağız.\n",
        "\n",
        "  Makine öğrenmesi tahminler yapma ile bağlantılıdır: gözlemlediğimiz bilgiler göz önüne alındığında bazı bilinmeyen özelliklerin olası değeri nedir? Belirsizlik altında titizlikle mantık yürütmek için olasılığı hatırlamamız gerekecek.\n",
        "\n",
        "  Son olarak, resmi dökümantasyon bu kitabın ötesinde birçok açıklama ve örnek sağlamaktadır. Bölümü bitirirken gerekli bilgiler için dökümantasyona nasıl bakacağınızı göstereceğiz. \n",
        "\n",
        "  Bu kitap derin öğrenmeyi doğru bir şekilde anlamak için matematiksel içeriği minimumda tutmuştur. Ama bu, kitabın matematik içermediği anlamına gelmez. Bu yüzden bu bölüm, kitabın matematiksel içeriğinin en azından çoğunu anlamalarına olanak sağlamak için temel ve sık kullanılan matematiğe hızlı bir giriş yapar. Eğer tüm matematiksel içeriği anlamak istiyorsanız Bölüm 18'e bakmanız yeterli olacaktır."
      ]
    },
    {
      "cell_type": "markdown",
      "metadata": {
        "id": "qy4lKrBEdnjB",
        "colab_type": "text"
      },
      "source": [
        "## **Veri İşleme**"
      ]
    },
    {
      "cell_type": "markdown",
      "metadata": {
        "id": "2ztXSTybdrpR",
        "colab_type": "text"
      },
      "source": [
        "  Birşey yapılması için veri depolamak ve veri işlemeye bir yol bulmamız gerekir. Genel olarak veri ile yapmamız gereken iki önemli şey vardır: (i) veriyi elde etmek, (ii) bilgisayara girdikten sonra verileri işlemek. Veri depolamanın bir yolu olmadan elde etmenin bir anlamı yok. Bu yüzden önce sentetik verileri ele alarak başlayalım. Başlamak için n-boyutlu dizi ortaya koyuyoruz. Numpy ve MXNet'te böyle bir diziye ndarray PyTorch ve TensorFlow da Tensor denir. Bu kitap boyunca ndarray ismini kullanıyoruz. ndarray bir sınıftır ve her örneğe bir ndarray diyoruz.\n",
        "\n",
        "##### > MXNet\n",
        "  Python'da en çok kullanılan bilimsel hesaplama paketi olan Numpy çalıştıysanız, bu bölümü tanıdık bulacaksınız. MXNet'in ndarrayi, Numpy'ın ndarrayine birkaç öldürücü özellik ile birlikte bir genişlemesidir. İlk olarak MXNet'in ndarrayi CPU, GPU ve dağıtılmış bulut mimarileri üzerinde asenkron hesaplamaları desteklerken, Numpy sadece CPU hesaplamasını destekler. İkinci olarak MXNet'in ndarrayi otomatik türevi destekler. Bu özellikler derin öğrenme için MXNet'in ndarrayini uygun hale getirir. Bu kitap boyunca ndarray dediğimizde aksini ifade etmedikçe MXNet'in ndarrayinden söz ediyoruz.\n",
        "  \n"
      ]
    },
    {
      "cell_type": "markdown",
      "metadata": {
        "id": "KXqR6FlDduer",
        "colab_type": "text"
      },
      "source": [
        "### **Başlangıç**"
      ]
    },
    {
      "cell_type": "markdown",
      "metadata": {
        "id": "f8m50IIcd0lI",
        "colab_type": "text"
      },
      "source": [
        "  Bu bölümde, bu kitabın başından sonuna kadar ilerledikçe inşa edeceğiniz temel matematik ve sayısal hesaplama araçları ile sizi hazırlamak ve çalıştırmayı amaçlıyoruz. Matematik kavramlarının veya kütüphane fonksiyonlarının bazılarını anlamaya çalışıyorsanız eğer endişelenmeyin. Aşağıdaki bölümler pratik örnekler ile birlikte bu materyali yeniden ele alacaktır. \n",
        "Başlamak için MXNet'den np(numpy) ve npx(numpy_extension) modüllerini indirelim. Burada npx modülü Numpy gibi bir ortamda derin öğrenmeyi güçlendirmek için geliştirilmiş bir genişleme kümesi içerirken, np modülü Numpy tarafından desteklenen fonksiyonları içermektedir. ndarrayi kullanırken her zaman set_np() fonksiyonunu çağırırız. Bu MXNet'in diğer bileşenleri tarafından işlenen ndarrayin uyumu içindir."
      ]
    },
    {
      "cell_type": "code",
      "metadata": {
        "id": "fmg2DM_2ha5R",
        "colab_type": "code",
        "colab": {}
      },
      "source": [
        "pip install mxnet==1.6.0 #öncelikle mxnet'i yüklüyoruz."
      ],
      "execution_count": 0,
      "outputs": []
    },
    {
      "cell_type": "code",
      "metadata": {
        "id": "MEEdfE3gd65L",
        "colab_type": "code",
        "colab": {}
      },
      "source": [
        "from mxnet import np, npx\n",
        "npx.set_np()"
      ],
      "execution_count": 0,
      "outputs": []
    },
    {
      "cell_type": "markdown",
      "metadata": {
        "id": "-Eptwt64d__S",
        "colab_type": "text"
      },
      "source": [
        "  Bir ndarray sayısal değerlerin bir dizisini temsil eder. Matematikte bir eksenli ndarray bir vektöre karşılık gelir. İki eksenli bir ndarray ise matrise karşılık gelir. İkiden fazla eksenli diziler matematiksel olarak bir isme sahip değildir. Biz bunlara tensor diyoruz.\n",
        "\n",
        "  0 ile başlayan ilk 12 tam sayıyı içeren bir satır vektörü olan x'i oluşturmak için 'arrange' yi kullanabiliriz. Bir ndarray deki değerlerin hepsi ndarray'in bir elemanı olarak adlandırılır. Örneğin, ndarray x'de 12 eleman vardır. Aksi belirtilmediği sürece yeni bir ndarray ana hafızada depolanacak ve CPU tabanlı hesaplama için tasarlanacak."
      ]
    },
    {
      "cell_type": "code",
      "metadata": {
        "id": "ANPr0hs4eDks",
        "colab_type": "code",
        "colab": {}
      },
      "source": [
        "x = np.arange(12)\n",
        "x"
      ],
      "execution_count": 0,
      "outputs": []
    },
    {
      "cell_type": "markdown",
      "metadata": {
        "id": "SX3zdLR2eEMV",
        "colab_type": "text"
      },
      "source": [
        "Bir ndarrayin şeklini öğrenmek için shape özelliğini kullanabiliriz."
      ]
    },
    {
      "cell_type": "code",
      "metadata": {
        "id": "eBsJDBGReMCi",
        "colab_type": "code",
        "colab": {}
      },
      "source": [
        "x.shape"
      ],
      "execution_count": 0,
      "outputs": []
    },
    {
      "cell_type": "code",
      "metadata": {
        "id": "fbaPCVlOePDw",
        "colab_type": "code",
        "colab": {}
      },
      "source": [
        "x.size"
      ],
      "execution_count": 0,
      "outputs": []
    },
    {
      "cell_type": "code",
      "metadata": {
        "id": "s63FfqEPeUHx",
        "colab_type": "code",
        "colab": {}
      },
      "source": [
        "x.reshape(3,4)"
      ],
      "execution_count": 0,
      "outputs": []
    },
    {
      "cell_type": "code",
      "metadata": {
        "id": "4gQxua04eV9c",
        "colab_type": "code",
        "colab": {}
      },
      "source": [
        "np.empty((3,4))"
      ],
      "execution_count": 0,
      "outputs": []
    },
    {
      "cell_type": "code",
      "metadata": {
        "id": "rpGoRCaweXf_",
        "colab_type": "code",
        "colab": {}
      },
      "source": [
        "np.zeros((2,3,4))"
      ],
      "execution_count": 0,
      "outputs": []
    },
    {
      "cell_type": "code",
      "metadata": {
        "id": "SLUo6mo1eZF2",
        "colab_type": "code",
        "colab": {}
      },
      "source": [
        "np.random.normal(0, 1, size= (3,4))"
      ],
      "execution_count": 0,
      "outputs": []
    }
  ]
}
